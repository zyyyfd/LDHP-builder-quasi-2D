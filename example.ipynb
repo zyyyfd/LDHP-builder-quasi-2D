{
 "cells": [
  {
   "cell_type": "code",
   "execution_count": 1,
   "id": "76ec21b0-54d0-4f82-a6d4-ff232cd74d15",
   "metadata": {},
   "outputs": [],
   "source": [
    "import sys\n",
    "import ase\n",
    "sys.path.insert(0, '/root/autodl-tmp/LDHP/LDHP-builder')\n",
    "from LDHPbuilder.perovskite_builder import (\n",
    "OrganicMolecule as OrganicMolecule_m,\n",
    "InorganicMonolayer as InorganicMonolayer_m,\n",
    "PerovskiteBuilder as PerovskiteBuilder_m)"
   ]
  },
  {
   "cell_type": "code",
   "execution_count": 14,
   "id": "05269a6f-7328-4544-b173-ecf7e81e16d2",
   "metadata": {},
   "outputs": [],
   "source": [
    "atom1=ase.io.read('CNH5.mol')\n",
    "\n",
    "monolayer = InorganicMonolayer_m.from_species_specification('Pb', 'Cl', \n",
    "                                                            num_unit_cell_octahedra=1,\n",
    "                                                            num_layer=2,#Control the number of perovskite layers\n",
    "                                                            A_site=atom1,#A-position organic cation species, ase.atoms object\n",
    "                                                            A_Rx=90)\n",
    "ase.io.write('monolayer.cif',monolayer.atoms)"
   ]
  },
  {
   "cell_type": "code",
   "execution_count": 3,
   "id": "0c882285-5616-4c20-a0dc-57eaa5a5f289",
   "metadata": {},
   "outputs": [
    {
     "name": "stdout",
     "output_type": "stream",
     "text": [
      "found 1 structures after 0 attempts\n",
      "found 2 structures after 1 attempts\n",
      "found 3 structures after 2 attempts\n",
      "found 4 structures after 3 attempts\n",
      "found 5 structures after 4 attempts\n",
      "generated 5 samples after 5 attempts\n"
     ]
    }
   ],
   "source": [
    "atom1=ase.io.read('CNH5.mol')\n",
    "molecule = OrganicMolecule_m(\n",
    "    atom1,\n",
    "    1\n",
    ")\n",
    "pb = PerovskiteBuilder_m()\n",
    "samples = pb.generate_homogeneous_perovskite_samples( \n",
    "    monolayer, \n",
    "    molecule, \n",
    "    num_layers=1,\n",
    "    num_samples=5, \n",
    "    max_num_attempts=10, \n",
    "    stacking_method='total_thickness' \n",
    ")\n",
    "for i in range(0,len(samples)):\n",
    "    name='samples'+str(i)+'.cif'\n",
    "    ase.io.write(name,samples[i])"
   ]
  },
  {
   "cell_type": "code",
   "execution_count": null,
   "id": "53234d79-6a84-4d9f-b41a-c0407a557aab",
   "metadata": {},
   "outputs": [],
   "source": []
  }
 ],
 "metadata": {
  "kernelspec": {
   "display_name": "Python 3 (ipykernel)",
   "language": "python",
   "name": "python3"
  },
  "language_info": {
   "codemirror_mode": {
    "name": "ipython",
    "version": 3
   },
   "file_extension": ".py",
   "mimetype": "text/x-python",
   "name": "python",
   "nbconvert_exporter": "python",
   "pygments_lexer": "ipython3",
   "version": "3.12.3"
  }
 },
 "nbformat": 4,
 "nbformat_minor": 5
}
